{
 "cells": [
  {
   "cell_type": "code",
   "execution_count": 1,
   "metadata": {},
   "outputs": [
    {
     "name": "stderr",
     "output_type": "stream",
     "text": [
      "/Users/tristanbehrens/Development/python-venvs/venv-3.6/lib/python3.6/site-packages/h5py/__init__.py:36: FutureWarning: Conversion of the second argument of issubdtype from `float` to `np.floating` is deprecated. In future, it will be treated as `np.float64 == np.dtype(float).type`.\n",
      "  from ._conv import register_converters as _register_converters\n",
      "Using TensorFlow backend.\n"
     ]
    }
   ],
   "source": [
    "from keras import models, layers\n",
    "from ngdlm import models as ngdlmodels\n",
    "from ngdlm import utils as ngdlutils\n",
    "from keras.datasets import mnist\n",
    "import numpy as np"
   ]
  },
  {
   "cell_type": "markdown",
   "metadata": {},
   "source": [
    "# Train- and test-data."
   ]
  },
  {
   "cell_type": "code",
   "execution_count": null,
   "metadata": {},
   "outputs": [
    {
     "name": "stdout",
     "output_type": "stream",
     "text": [
      "(60000, 28, 28)\n",
      "(10000, 28, 28)\n"
     ]
    }
   ],
   "source": [
    "(x_input_train, _), (x_input_test, y_output_test) = mnist.load_data()\n",
    "x_input_train = x_input_train.astype(\"float32\") / 255.0\n",
    "x_input_test = x_input_test.astype(\"float32\") / 255.0\n",
    "print(x_input_train.shape)\n",
    "print(x_input_test.shape)"
   ]
  },
  {
   "cell_type": "markdown",
   "metadata": {},
   "source": [
    "# Variational autoencoder."
   ]
  },
  {
   "cell_type": "code",
   "execution_count": null,
   "metadata": {},
   "outputs": [
    {
     "name": "stdout",
     "output_type": "stream",
     "text": [
      "<function VAE.compile.<locals>.vae_loss at 0x119e118c8>\n",
      "__________________________________________________________________________________________________\n",
      "Layer (type)                    Output Shape         Param #     Connected to                     \n",
      "==================================================================================================\n",
      "input_1 (InputLayer)            (None, 28, 28)       0                                            \n",
      "__________________________________________________________________________________________________\n",
      "reshape_1 (Reshape)             (None, 784)          0           input_1[0][0]                    \n",
      "__________________________________________________________________________________________________\n",
      "dense_1 (Dense)                 (None, 512)          401920      reshape_1[0][0]                  \n",
      "__________________________________________________________________________________________________\n",
      "z_mean (Dense)                  (None, 2)            1026        dense_1[0][0]                    \n",
      "__________________________________________________________________________________________________\n",
      "z_log_var (Dense)               (None, 2)            1026        dense_1[0][0]                    \n",
      "__________________________________________________________________________________________________\n",
      "z (Lambda)                      (None, 2)            0           z_mean[0][0]                     \n",
      "                                                                 z_log_var[0][0]                  \n",
      "==================================================================================================\n",
      "Total params: 403,972\n",
      "Trainable params: 403,972\n",
      "Non-trainable params: 0\n",
      "__________________________________________________________________________________________________\n",
      "_________________________________________________________________\n",
      "Layer (type)                 Output Shape              Param #   \n",
      "=================================================================\n",
      "input_2 (InputLayer)         (None, 2)                 0         \n",
      "_________________________________________________________________\n",
      "dense_2 (Dense)              (None, 512)               1536      \n",
      "_________________________________________________________________\n",
      "dense_3 (Dense)              (None, 784)               402192    \n",
      "_________________________________________________________________\n",
      "reshape_2 (Reshape)          (None, 28, 28)            0         \n",
      "=================================================================\n",
      "Total params: 403,728\n",
      "Trainable params: 403,728\n",
      "Non-trainable params: 0\n",
      "_________________________________________________________________\n",
      "_________________________________________________________________\n",
      "Layer (type)                 Output Shape              Param #   \n",
      "=================================================================\n",
      "input_1 (InputLayer)         (None, 28, 28)            0         \n",
      "_________________________________________________________________\n",
      "encoder (Model)              [(None, 2), (None, 2), (N 403972    \n",
      "_________________________________________________________________\n",
      "decoder (Model)              (None, 28, 28)            403728    \n",
      "=================================================================\n",
      "Total params: 807,700\n",
      "Trainable params: 807,700\n",
      "Non-trainable params: 0\n",
      "_________________________________________________________________\n",
      "Train...\n",
      "Train on 60000 samples, validate on 10000 samples\n",
      "Epoch 1/100\n",
      "60000/60000 [==============================] - 100s 2ms/step - loss: 178.3593 - val_loss: 167.7922\n",
      "Epoch 2/100\n",
      "60000/60000 [==============================] - 95s 2ms/step - loss: 167.3784 - val_loss: 164.7675\n",
      "Epoch 3/100\n",
      "60000/60000 [==============================] - 94s 2ms/step - loss: 166.7324 - val_loss: 163.2233\n",
      "Epoch 4/100\n",
      "60000/60000 [==============================] - 106s 2ms/step - loss: 168.1962 - val_loss: 189.1153\n",
      "Epoch 5/100\n",
      "60000/60000 [==============================] - 99s 2ms/step - loss: 167.8277 - val_loss: 173.8326\n",
      "Epoch 6/100\n",
      "60000/60000 [==============================] - 110s 2ms/step - loss: 170.7888 - val_loss: 170.1462\n",
      "Epoch 7/100\n",
      "60000/60000 [==============================] - 107s 2ms/step - loss: 171.6758 - val_loss: 179.0468\n",
      "Epoch 8/100\n",
      "60000/60000 [==============================] - 93s 2ms/step - loss: 170.4489 - val_loss: 165.4128\n",
      "Epoch 9/100\n",
      "60000/60000 [==============================] - 63s 1ms/step - loss: 165.8860 - val_loss: 161.7604\n",
      "Epoch 10/100\n",
      "60000/60000 [==============================] - 62s 1ms/step - loss: 161.0064 - val_loss: 158.5252\n",
      "Epoch 11/100\n",
      "60000/60000 [==============================] - 58s 967us/step - loss: 158.0946 - val_loss: 156.9159\n",
      "Epoch 12/100\n",
      "60000/60000 [==============================] - 77s 1ms/step - loss: 156.8521 - val_loss: 155.8442\n",
      "Epoch 13/100\n",
      "60000/60000 [==============================] - 84s 1ms/step - loss: 156.4597 - val_loss: 156.4398\n",
      "Epoch 14/100\n",
      "60000/60000 [==============================] - 69s 1ms/step - loss: 155.9029 - val_loss: 156.2581\n",
      "Epoch 15/100\n",
      "60000/60000 [==============================] - 61s 1ms/step - loss: 154.9594 - val_loss: 154.4193\n",
      "Epoch 16/100\n",
      "60000/60000 [==============================] - 57s 947us/step - loss: 154.0352 - val_loss: 154.4377\n",
      "Epoch 17/100\n",
      "60000/60000 [==============================] - 59s 975us/step - loss: 153.3759 - val_loss: 153.7761\n",
      "Epoch 18/100\n",
      "60000/60000 [==============================] - 63s 1ms/step - loss: 152.9472 - val_loss: 155.2393\n",
      "Epoch 19/100\n",
      "60000/60000 [==============================] - 58s 972us/step - loss: 152.5418 - val_loss: 153.0604\n",
      "Epoch 20/100\n",
      "60000/60000 [==============================] - 59s 980us/step - loss: 152.1087 - val_loss: 153.0620\n",
      "Epoch 21/100\n",
      "60000/60000 [==============================] - 56s 926us/step - loss: 151.7549 - val_loss: 152.5580\n",
      "Epoch 22/100\n",
      "59680/60000 [============================>.] - ETA: 0s - loss: 151.4102"
     ]
    }
   ],
   "source": [
    "latent_dim = 2\n",
    "\n",
    "# Create the encoder.\n",
    "encoder_input = layers.Input(shape=(28, 28))\n",
    "encoder_output = layers.Reshape((28 * 28,))(encoder_input)\n",
    "encoder_output = layers.Dense(512, activation=\"relu\")(encoder_output)\n",
    "\n",
    "# Create the decoder.\n",
    "decoder_input = layers.Input(shape=(latent_dim,))\n",
    "decoder_output = layers.Dense(512, activation=\"relu\")(decoder_input)\n",
    "decoder_output = layers.Dense(28 * 28, activation=\"sigmoid\")(decoder_output)\n",
    "decoder_output = layers.Reshape((28, 28))(decoder_output)\n",
    "\n",
    "# Create the autoencoder.\n",
    "vae = ngdlmodels.VAE(encoder_input, encoder_output, decoder_input, decoder_output, latent_dim=latent_dim)\n",
    "vae.compile(optimizer='adadelta', reconstruction_loss=\"binary_crossentropy\")\n",
    "vae.summary()\n",
    "\n",
    "# Train.\n",
    "print(\"Train...\")\n",
    "history = vae.fit(\n",
    "        x_input_train, x_input_train,\n",
    "        epochs=100,\n",
    "        batch_size=32,\n",
    "        shuffle=True,\n",
    "        validation_data=(x_input_test, x_input_test)\n",
    "    )\n",
    "    \n",
    "# Evaluate.\n",
    "print(\"Evaluate...\")\n",
    "loss = vae.model.evaluate(x_input_test, x_input_test)\n",
    "print(\"Loss:\", loss)"
   ]
  },
  {
   "cell_type": "markdown",
   "metadata": {},
   "source": [
    "# Visualizing variational autoencoder."
   ]
  },
  {
   "cell_type": "code",
   "execution_count": null,
   "metadata": {},
   "outputs": [],
   "source": [
    "print(\"Rendering history...\")\n",
    "ngdlutils.render_history(history)\n",
    "\n",
    "print(\"Rendering reconstructions...\")\n",
    "ngdlutils.render_image_reconstructions(vae, x_input_train[0:10])\n",
    "\n",
    "print(\"Rendering latent-space...\")\n",
    "ngdlutils.render_image_latent_space(vae.decoder, 10)\n",
    "\n",
    "print(\"Rendering encodings...\")\n",
    "ngdlutils.render_encodings(vae.encoder, x_input_test, y_output_test)"
   ]
  },
  {
   "cell_type": "code",
   "execution_count": null,
   "metadata": {},
   "outputs": [],
   "source": []
  }
 ],
 "metadata": {
  "kernelspec": {
   "display_name": "Python 3",
   "language": "python",
   "name": "python3"
  },
  "language_info": {
   "codemirror_mode": {
    "name": "ipython",
    "version": 3
   },
   "file_extension": ".py",
   "mimetype": "text/x-python",
   "name": "python",
   "nbconvert_exporter": "python",
   "pygments_lexer": "ipython3",
   "version": "3.6.4"
  }
 },
 "nbformat": 4,
 "nbformat_minor": 2
}
