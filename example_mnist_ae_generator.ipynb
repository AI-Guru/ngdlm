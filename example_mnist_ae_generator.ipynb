{
 "cells": [
  {
   "cell_type": "code",
   "execution_count": 1,
   "metadata": {},
   "outputs": [
    {
     "name": "stderr",
     "output_type": "stream",
     "text": [
      "Using TensorFlow backend.\n"
     ]
    }
   ],
   "source": [
    "from keras import models, layers\n",
    "from ngdlm import models as ngdlmodels\n",
    "from ngdlm import utils as ngdlutils\n",
    "from keras.datasets import mnist\n",
    "import numpy as np"
   ]
  },
  {
   "cell_type": "markdown",
   "metadata": {},
   "source": [
    "# Train- and test-data."
   ]
  },
  {
   "cell_type": "code",
   "execution_count": 2,
   "metadata": {},
   "outputs": [
    {
     "name": "stdout",
     "output_type": "stream",
     "text": [
      "(60000, 28, 28)\n",
      "(10000, 28, 28)\n"
     ]
    }
   ],
   "source": [
    "(x_input_train, _), (x_input_test, y_output_test) = mnist.load_data()\n",
    "x_input_train = x_input_train.astype(\"float32\") / 255.0\n",
    "x_input_test = x_input_test.astype(\"float32\") / 255.0\n",
    "print(x_input_train.shape)\n",
    "print(x_input_test.shape)"
   ]
  },
  {
   "cell_type": "markdown",
   "metadata": {},
   "source": [
    "# Generator."
   ]
  },
  {
   "cell_type": "code",
   "execution_count": 3,
   "metadata": {},
   "outputs": [],
   "source": [
    "def train_generator():\n",
    "    while True:\n",
    "        yield x_input_train, x_input_train\n",
    "        \n",
    "def validate_generator():\n",
    "    while True:\n",
    "        yield x_input_test, x_input_test"
   ]
  },
  {
   "cell_type": "markdown",
   "metadata": {},
   "source": [
    "# Plain autoencoder."
   ]
  },
  {
   "cell_type": "code",
   "execution_count": null,
   "metadata": {},
   "outputs": [
    {
     "name": "stdout",
     "output_type": "stream",
     "text": [
      "_________________________________________________________________\n",
      "Layer (type)                 Output Shape              Param #   \n",
      "=================================================================\n",
      "input_3 (InputLayer)         (None, 28, 28)            0         \n",
      "_________________________________________________________________\n",
      "reshape_3 (Reshape)          (None, 784)               0         \n",
      "_________________________________________________________________\n",
      "dense_3 (Dense)              (None, 32)                25120     \n",
      "=================================================================\n",
      "Total params: 25,120\n",
      "Trainable params: 25,120\n",
      "Non-trainable params: 0\n",
      "_________________________________________________________________\n",
      "_________________________________________________________________\n",
      "Layer (type)                 Output Shape              Param #   \n",
      "=================================================================\n",
      "input_4 (InputLayer)         (None, 32)                0         \n",
      "_________________________________________________________________\n",
      "dense_4 (Dense)              (None, 784)               25872     \n",
      "_________________________________________________________________\n",
      "reshape_4 (Reshape)          (None, 28, 28)            0         \n",
      "=================================================================\n",
      "Total params: 25,872\n",
      "Trainable params: 25,872\n",
      "Non-trainable params: 0\n",
      "_________________________________________________________________\n",
      "_________________________________________________________________\n",
      "Layer (type)                 Output Shape              Param #   \n",
      "=================================================================\n",
      "input_3 (InputLayer)         (None, 28, 28)            0         \n",
      "_________________________________________________________________\n",
      "encoder (Model)              (None, 32)                25120     \n",
      "_________________________________________________________________\n",
      "decoder (Model)              (None, 28, 28)            25872     \n",
      "=================================================================\n",
      "Total params: 50,992\n",
      "Trainable params: 50,992\n",
      "Non-trainable params: 0\n",
      "_________________________________________________________________\n",
      "Train...\n",
      "Epoch 1/50\n",
      "1/1 [==============================] - 6s 6s/step - loss: 0.6956 - val_loss: 0.6945\n",
      "Epoch 2/50\n",
      "1/1 [==============================] - 4s 4s/step - loss: 0.6945 - val_loss: 0.6935\n",
      "Epoch 3/50\n",
      "1/1 [==============================] - 3s 3s/step - loss: 0.6936 - val_loss: 0.6926\n",
      "Epoch 4/50\n",
      "1/1 [==============================] - 3s 3s/step - loss: 0.6926 - val_loss: 0.6917\n",
      "Epoch 5/50\n",
      "1/1 [==============================] - 3s 3s/step - loss: 0.6917 - val_loss: 0.6908\n",
      "Epoch 6/50\n",
      "1/1 [==============================] - 3s 3s/step - loss: 0.6908 - val_loss: 0.6899\n",
      "Epoch 7/50\n",
      "1/1 [==============================] - 3s 3s/step - loss: 0.6899 - val_loss: 0.6890\n",
      "Epoch 8/50\n"
     ]
    }
   ],
   "source": [
    "latent_dim = 32\n",
    "\n",
    "# Create the encoder.\n",
    "encoder_input = layers.Input(shape=(28, 28))\n",
    "encoder_output = encoder_input\n",
    "encoder_output = layers.Reshape((28 * 28,))(encoder_input)\n",
    "encoder_output = layers.Dense(latent_dim, activation=\"relu\")(encoder_output)\n",
    "\n",
    "# Create the decoder.\n",
    "decoder_input = layers.Input(shape=(latent_dim,))\n",
    "decoder_output = layers.Dense(28 * 28, activation=\"sigmoid\")(decoder_input)\n",
    "decoder_output = layers.Reshape((28, 28))(decoder_output)\n",
    "\n",
    "# Create the autoencoder.\n",
    "ae = ngdlmodels.AE(encoder_input, encoder_output, decoder_input, decoder_output, latent_dim=latent_dim)\n",
    "ae.compile(optimizer='adadelta', loss='binary_crossentropy')\n",
    "ae.summary()\n",
    "\n",
    "# Train.\n",
    "print(\"Train...\")\n",
    "history = ae.fit_generator(\n",
    "        train_generator(),\n",
    "        steps_per_epoch=1,\n",
    "        epochs=50,\n",
    "        validation_data=validate_generator(),\n",
    "        validation_steps=1\n",
    "    )\n",
    "    \n",
    "# Evaluate.\n",
    "print(\"Evaluate...\")\n",
    "loss = ae.model.evaluate(x_input_test, x_input_test)\n",
    "print(\"Loss:\", loss)"
   ]
  },
  {
   "cell_type": "markdown",
   "metadata": {},
   "source": [
    "# Visualizing plain autoencoder."
   ]
  },
  {
   "cell_type": "code",
   "execution_count": null,
   "metadata": {},
   "outputs": [],
   "source": [
    "print(\"Rendering history...\")\n",
    "ngdlutils.render_history(history)\n",
    "\n",
    "print(\"Rendering reconstructions...\")\n",
    "ngdlutils.render_image_reconstructions(ae, x_input_train[0:10])\n",
    "\n",
    "print(\"Rendering latent-space...\")\n",
    "ngdlutils.render_image_latent_space(ae.decoder, 10)\n",
    "\n",
    "print(\"Rendering encodings...\")\n",
    "ngdlutils.render_encodings(ae.encoder, x_input_test, y_output_test)"
   ]
  },
  {
   "cell_type": "code",
   "execution_count": null,
   "metadata": {},
   "outputs": [],
   "source": []
  }
 ],
 "metadata": {
  "kernelspec": {
   "display_name": "Python 3",
   "language": "python",
   "name": "python3"
  },
  "language_info": {
   "codemirror_mode": {
    "name": "ipython",
    "version": 3
   },
   "file_extension": ".py",
   "mimetype": "text/x-python",
   "name": "python",
   "nbconvert_exporter": "python",
   "pygments_lexer": "ipython3",
   "version": "3.6.5"
  }
 },
 "nbformat": 4,
 "nbformat_minor": 2
}
