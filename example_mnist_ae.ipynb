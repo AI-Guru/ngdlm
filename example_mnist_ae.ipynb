{
 "cells": [
  {
   "cell_type": "code",
   "execution_count": 1,
   "metadata": {},
   "outputs": [
    {
     "name": "stderr",
     "output_type": "stream",
     "text": [
      "Using TensorFlow backend.\n"
     ]
    }
   ],
   "source": [
    "from keras import models, layers\n",
    "from ngdlm import models as ngdlmodels\n",
    "from ngdlm import utils as ngdlutils\n",
    "from keras.datasets import mnist\n",
    "import numpy as np"
   ]
  },
  {
   "cell_type": "markdown",
   "metadata": {},
   "source": [
    "# Train- and test-data."
   ]
  },
  {
   "cell_type": "code",
   "execution_count": 2,
   "metadata": {},
   "outputs": [
    {
     "name": "stdout",
     "output_type": "stream",
     "text": [
      "(60000, 28, 28)\n",
      "(10000, 28, 28)\n"
     ]
    }
   ],
   "source": [
    "(x_input_train, _), (x_input_test, y_output_test) = mnist.load_data()\n",
    "x_input_train = x_input_train.astype(\"float32\") / 255.0\n",
    "x_input_test = x_input_test.astype(\"float32\") / 255.0\n",
    "print(x_input_train.shape)\n",
    "print(x_input_test.shape)"
   ]
  },
  {
   "cell_type": "markdown",
   "metadata": {},
   "source": [
    "# Plain autoencoder."
   ]
  },
  {
   "cell_type": "code",
   "execution_count": null,
   "metadata": {},
   "outputs": [
    {
     "name": "stdout",
     "output_type": "stream",
     "text": [
      "_________________________________________________________________\n",
      "Layer (type)                 Output Shape              Param #   \n",
      "=================================================================\n",
      "input_1 (InputLayer)         (None, 28, 28)            0         \n",
      "_________________________________________________________________\n",
      "reshape_1 (Reshape)          (None, 784)               0         \n",
      "_________________________________________________________________\n",
      "dense_1 (Dense)              (None, 32)                25120     \n",
      "=================================================================\n",
      "Total params: 25,120\n",
      "Trainable params: 25,120\n",
      "Non-trainable params: 0\n",
      "_________________________________________________________________\n",
      "_________________________________________________________________\n",
      "Layer (type)                 Output Shape              Param #   \n",
      "=================================================================\n",
      "input_2 (InputLayer)         (None, 32)                0         \n",
      "_________________________________________________________________\n",
      "dense_2 (Dense)              (None, 784)               25872     \n",
      "_________________________________________________________________\n",
      "reshape_2 (Reshape)          (None, 28, 28)            0         \n",
      "=================================================================\n",
      "Total params: 25,872\n",
      "Trainable params: 25,872\n",
      "Non-trainable params: 0\n",
      "_________________________________________________________________\n",
      "_________________________________________________________________\n",
      "Layer (type)                 Output Shape              Param #   \n",
      "=================================================================\n",
      "input_1 (InputLayer)         (None, 28, 28)            0         \n",
      "_________________________________________________________________\n",
      "encoder (Model)              (None, 32)                25120     \n",
      "_________________________________________________________________\n",
      "decoder (Model)              (None, 28, 28)            25872     \n",
      "=================================================================\n",
      "Total params: 50,992\n",
      "Trainable params: 50,992\n",
      "Non-trainable params: 0\n",
      "_________________________________________________________________\n",
      "Train...\n",
      "Train on 60000 samples, validate on 10000 samples\n",
      "Epoch 1/50\n",
      "60000/60000 [==============================] - 2s 40us/step - loss: 0.3151 - val_loss: 0.2503\n",
      "Epoch 2/50\n",
      "60000/60000 [==============================] - 2s 31us/step - loss: 0.2292 - val_loss: 0.2098\n",
      "Epoch 3/50\n",
      "60000/60000 [==============================] - 2s 35us/step - loss: 0.2000 - val_loss: 0.1890\n",
      "Epoch 4/50\n",
      "60000/60000 [==============================] - 2s 37us/step - loss: 0.1831 - val_loss: 0.1750\n",
      "Epoch 5/50\n",
      "60000/60000 [==============================] - 2s 30us/step - loss: 0.1710 - val_loss: 0.1647\n",
      "Epoch 6/50\n",
      "60000/60000 [==============================] - 2s 31us/step - loss: 0.1616 - val_loss: 0.1559\n",
      "Epoch 7/50\n",
      "60000/60000 [==============================] - 2s 32us/step - loss: 0.1539 - val_loss: 0.1488\n",
      "Epoch 8/50\n",
      "60000/60000 [==============================] - 2s 37us/step - loss: 0.1472 - val_loss: 0.1427\n",
      "Epoch 9/50\n",
      "60000/60000 [==============================] - 2s 31us/step - loss: 0.1414 - val_loss: 0.1372\n",
      "Epoch 10/50\n",
      "60000/60000 [==============================] - 2s 34us/step - loss: 0.1364 - val_loss: 0.1324\n",
      "Epoch 11/50\n",
      "60000/60000 [==============================] - 2s 35us/step - loss: 0.1319 - val_loss: 0.1282\n",
      "Epoch 12/50\n",
      "60000/60000 [==============================] - 2s 32us/step - loss: 0.1278 - val_loss: 0.1244\n",
      "Epoch 13/50\n",
      "60000/60000 [==============================] - 2s 36us/step - loss: 0.1241 - val_loss: 0.1207\n",
      "Epoch 14/50\n",
      "60000/60000 [==============================] - 2s 35us/step - loss: 0.1208 - val_loss: 0.1176\n",
      "Epoch 15/50\n",
      "60000/60000 [==============================] - 2s 34us/step - loss: 0.1178 - val_loss: 0.1148\n",
      "Epoch 16/50\n",
      "60000/60000 [==============================] - 2s 32us/step - loss: 0.1152 - val_loss: 0.1123\n",
      "Epoch 17/50\n",
      "60000/60000 [==============================] - 2s 31us/step - loss: 0.1130 - val_loss: 0.1103\n",
      "Epoch 18/50\n",
      "60000/60000 [==============================] - 2s 31us/step - loss: 0.1110 - val_loss: 0.1084\n",
      "Epoch 19/50\n",
      "60000/60000 [==============================] - 2s 32us/step - loss: 0.1094 - val_loss: 0.1069\n",
      "Epoch 20/50\n",
      "60000/60000 [==============================] - 2s 32us/step - loss: 0.1079 - val_loss: 0.1056\n",
      "Epoch 21/50\n",
      "60000/60000 [==============================] - 2s 32us/step - loss: 0.1067 - val_loss: 0.1044\n",
      "Epoch 22/50\n",
      "60000/60000 [==============================] - 2s 31us/step - loss: 0.1056 - val_loss: 0.1034\n",
      "Epoch 23/50\n",
      "60000/60000 [==============================] - 2s 32us/step - loss: 0.1046 - val_loss: 0.1025\n",
      "Epoch 24/50\n",
      "60000/60000 [==============================] - 2s 34us/step - loss: 0.1038 - val_loss: 0.1018\n",
      "Epoch 25/50\n",
      "60000/60000 [==============================] - 2s 40us/step - loss: 0.1030 - val_loss: 0.1011\n",
      "Epoch 26/50\n",
      "60000/60000 [==============================] - 3s 42us/step - loss: 0.1024 - val_loss: 0.1005\n",
      "Epoch 27/50\n",
      "60000/60000 [==============================] - 2s 37us/step - loss: 0.1018 - val_loss: 0.1000\n",
      "Epoch 28/50\n",
      "60000/60000 [==============================] - 2s 35us/step - loss: 0.1013 - val_loss: 0.0995\n",
      "Epoch 29/50\n",
      "60000/60000 [==============================] - 2s 36us/step - loss: 0.1009 - val_loss: 0.0991\n",
      "Epoch 30/50\n",
      "60000/60000 [==============================] - 2s 32us/step - loss: 0.1005 - val_loss: 0.0987\n",
      "Epoch 31/50\n",
      "60000/60000 [==============================] - 2s 34us/step - loss: 0.1001 - val_loss: 0.0984\n",
      "Epoch 32/50\n",
      "60000/60000 [==============================] - 2s 30us/step - loss: 0.0998 - val_loss: 0.0981\n",
      "Epoch 33/50\n",
      "21632/60000 [=========>....................] - ETA: 1s - loss: 0.0996"
     ]
    }
   ],
   "source": [
    "latent_dim = 32\n",
    "\n",
    "# Create the encoder.\n",
    "encoder_input = layers.Input(shape=(28, 28))\n",
    "encoder_output = encoder_input\n",
    "encoder_output = layers.Reshape((28 * 28,))(encoder_input)\n",
    "encoder_output = layers.Dense(latent_dim, activation=\"relu\")(encoder_output)\n",
    "\n",
    "# Create the decoder.\n",
    "decoder_input = layers.Input(shape=(latent_dim,))\n",
    "decoder_output = layers.Dense(28 * 28, activation=\"sigmoid\")(decoder_input)\n",
    "decoder_output = layers.Reshape((28, 28))(decoder_output)\n",
    "\n",
    "# Create the autoencoder.\n",
    "ae = ngdlmodels.AE(encoder_input, encoder_output, decoder_input, decoder_output, latent_dim=latent_dim)\n",
    "ae.compile(optimizer='adadelta', loss='binary_crossentropy')\n",
    "ae.summary()\n",
    "\n",
    "# Train.\n",
    "print(\"Train...\")\n",
    "history = ae.fit(\n",
    "        x_input_train, x_input_train,\n",
    "        epochs=50,\n",
    "        batch_size=128,\n",
    "        shuffle=True,\n",
    "        validation_data=(x_input_test, x_input_test)\n",
    "    )\n",
    "    \n",
    "# Evaluate.\n",
    "print(\"Evaluate...\")\n",
    "loss = ae.model.evaluate(x_input_test, x_input_test)\n",
    "print(\"Loss:\", loss)"
   ]
  },
  {
   "cell_type": "markdown",
   "metadata": {},
   "source": [
    "# Visualizing plain autoencoder."
   ]
  },
  {
   "cell_type": "code",
   "execution_count": null,
   "metadata": {},
   "outputs": [],
   "source": [
    "print(\"Rendering history...\")\n",
    "ngdlutils.render_history(history)\n",
    "\n",
    "print(\"Rendering reconstructions...\")\n",
    "ngdlutils.render_image_reconstructions(ae, x_input_train[0:10])\n",
    "\n",
    "print(\"Rendering latent-space...\")\n",
    "ngdlutils.render_image_latent_space(ae.decoder, 10)\n",
    "\n",
    "print(\"Rendering encodings...\")\n",
    "ngdlutils.render_encodings(ae.encoder, x_input_test, y_output_test)"
   ]
  },
  {
   "cell_type": "code",
   "execution_count": null,
   "metadata": {},
   "outputs": [],
   "source": []
  }
 ],
 "metadata": {
  "kernelspec": {
   "display_name": "Python 3",
   "language": "python",
   "name": "python3"
  },
  "language_info": {
   "codemirror_mode": {
    "name": "ipython",
    "version": 3
   },
   "file_extension": ".py",
   "mimetype": "text/x-python",
   "name": "python",
   "nbconvert_exporter": "python",
   "pygments_lexer": "ipython3",
   "version": "3.6.5"
  }
 },
 "nbformat": 4,
 "nbformat_minor": 2
}
