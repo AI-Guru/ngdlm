{
 "cells": [
  {
   "cell_type": "code",
   "execution_count": null,
   "metadata": {},
   "outputs": [],
   "source": [
    "from keras import models, layers\n",
    "from ngdlm import models as ngdlmodels\n",
    "from ngdlm import utils as ngdlutils\n",
    "from keras.datasets import mnist\n",
    "import numpy as np"
   ]
  },
  {
   "cell_type": "markdown",
   "metadata": {},
   "source": [
    "# Train- and test-data."
   ]
  },
  {
   "cell_type": "code",
   "execution_count": null,
   "metadata": {},
   "outputs": [],
   "source": [
    "(x_input_train, _), (x_input_test, y_output_test) = mnist.load_data()\n",
    "x_input_train = x_input_train.astype(\"float32\") / 255.0\n",
    "x_input_test = x_input_test.astype(\"float32\") / 255.0\n",
    "print(x_input_train.shape)\n",
    "print(x_input_test.shape)"
   ]
  },
  {
   "cell_type": "markdown",
   "metadata": {},
   "source": [
    "# Plain autoencoder."
   ]
  },
  {
   "cell_type": "code",
   "execution_count": null,
   "metadata": {},
   "outputs": [],
   "source": [
    "ae = ngdlutils.build_dense_ae(input_shape=(28, 28), latent_dim=32)\n",
    "ae.compile(optimizer='adadelta', loss='binary_crossentropy')\n",
    "ae.summary()\n",
    "\n",
    "# Train.\n",
    "print(\"Train...\")\n",
    "history = ae.fit(\n",
    "        x_input_train, x_input_train,\n",
    "        epochs=50,\n",
    "        batch_size=128,\n",
    "        shuffle=True,\n",
    "        validation_data=(x_input_test, x_input_test)\n",
    "    )\n",
    "    \n",
    "# Evaluate.\n",
    "print(\"Evaluate...\")\n",
    "loss = ae.model.evaluate(x_input_test, x_input_test)\n",
    "print(\"Loss:\", loss)"
   ]
  },
  {
   "cell_type": "markdown",
   "metadata": {},
   "source": [
    "# Visualizing plain autoencoder."
   ]
  },
  {
   "cell_type": "code",
   "execution_count": null,
   "metadata": {},
   "outputs": [],
   "source": [
    "print(\"Rendering history...\")\n",
    "ngdlutils.render_history(history)\n",
    "\n",
    "print(\"Rendering reconstructions...\")\n",
    "ngdlutils.render_image_reconstructions(ae, x_input_train[0:10])\n",
    "\n",
    "print(\"Rendering latent-space...\")\n",
    "ngdlutils.render_image_latent_space(ae.decoder, 10)\n",
    "\n",
    "print(\"Rendering encodings...\")\n",
    "ngdlutils.render_encodings(ae.encoder, x_input_test, y_output_test)"
   ]
  },
  {
   "cell_type": "code",
   "execution_count": null,
   "metadata": {},
   "outputs": [],
   "source": []
  }
 ],
 "metadata": {
  "kernelspec": {
   "display_name": "Python 3",
   "language": "python",
   "name": "python3"
  },
  "language_info": {
   "codemirror_mode": {
    "name": "ipython",
    "version": 3
   },
   "file_extension": ".py",
   "mimetype": "text/x-python",
   "name": "python",
   "nbconvert_exporter": "python",
   "pygments_lexer": "ipython3",
   "version": "3.6.4"
  }
 },
 "nbformat": 4,
 "nbformat_minor": 2
}
