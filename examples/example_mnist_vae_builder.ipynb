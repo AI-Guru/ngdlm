{
 "cells": [
  {
   "cell_type": "code",
   "execution_count": 1,
   "metadata": {},
   "outputs": [],
   "source": [
    "from tensorflow.keras import models, layers\n",
    "from ngdlm import models as ngdlmodels\n",
    "from ngdlm import utils as ngdlutils\n",
    "from tensorflow.keras.datasets import mnist\n",
    "import numpy as np"
   ]
  },
  {
   "cell_type": "markdown",
   "metadata": {},
   "source": [
    "# Train- and test-data."
   ]
  },
  {
   "cell_type": "code",
   "execution_count": 2,
   "metadata": {},
   "outputs": [
    {
     "name": "stdout",
     "output_type": "stream",
     "text": [
      "(60000, 28, 28)\n",
      "(10000, 28, 28)\n"
     ]
    }
   ],
   "source": [
    "(x_input_train, _), (x_input_test, y_output_test) = mnist.load_data()\n",
    "x_input_train = x_input_train.astype(\"float32\") / 255.0\n",
    "x_input_test = x_input_test.astype(\"float32\") / 255.0\n",
    "print(x_input_train.shape)\n",
    "print(x_input_test.shape)"
   ]
  },
  {
   "cell_type": "markdown",
   "metadata": {},
   "source": [
    "# Variational autoencoder."
   ]
  },
  {
   "cell_type": "code",
   "execution_count": null,
   "metadata": {},
   "outputs": [
    {
     "name": "stdout",
     "output_type": "stream",
     "text": [
      "WARNING:tensorflow:From /Users/tristanbehrens/Development/python-venvs/venv-3.6/lib/python3.6/site-packages/tensorflow/python/ops/init_ops.py:1251: calling VarianceScaling.__init__ (from tensorflow.python.ops.init_ops) with dtype is deprecated and will be removed in a future version.\n",
      "Instructions for updating:\n",
      "Call initializer instance with the dtype argument instead of passing it to the constructor\n",
      "Encoder:\n",
      "Model: \"encoder\"\n",
      "__________________________________________________________________________________________________\n",
      "Layer (type)                    Output Shape         Param #     Connected to                     \n",
      "==================================================================================================\n",
      "input_1 (InputLayer)            [(None, 28, 28)]     0                                            \n",
      "__________________________________________________________________________________________________\n",
      "reshape (Reshape)               (None, 784)          0           input_1[0][0]                    \n",
      "__________________________________________________________________________________________________\n",
      "dense (Dense)                   (None, 512)          401920      reshape[0][0]                    \n",
      "__________________________________________________________________________________________________\n",
      "dense_1 (Dense)                 (None, 2)            1026        dense[0][0]                      \n",
      "__________________________________________________________________________________________________\n",
      "z_mean (Dense)                  (None, 2)            6           dense_1[0][0]                    \n",
      "__________________________________________________________________________________________________\n",
      "z_log_var (Dense)               (None, 2)            6           dense_1[0][0]                    \n",
      "__________________________________________________________________________________________________\n",
      "z (Lambda)                      (None, 2)            0           z_mean[0][0]                     \n",
      "                                                                 z_log_var[0][0]                  \n",
      "==================================================================================================\n",
      "Total params: 402,958\n",
      "Trainable params: 402,958\n",
      "Non-trainable params: 0\n",
      "__________________________________________________________________________________________________\n",
      "Decoder:\n",
      "Model: \"model_1\"\n",
      "_________________________________________________________________\n",
      "Layer (type)                 Output Shape              Param #   \n",
      "=================================================================\n",
      "input_2 (InputLayer)         [(None, 2)]               0         \n",
      "_________________________________________________________________\n",
      "dense_2 (Dense)              (None, 512)               1536      \n",
      "_________________________________________________________________\n",
      "dense_3 (Dense)              (None, 784)               402192    \n",
      "_________________________________________________________________\n",
      "reshape_1 (Reshape)          (None, 28, 28)            0         \n",
      "=================================================================\n",
      "Total params: 403,728\n",
      "Trainable params: 403,728\n",
      "Non-trainable params: 0\n",
      "_________________________________________________________________\n",
      "Autoencoder:\n",
      "Model: \"vae\"\n",
      "_________________________________________________________________\n",
      "Layer (type)                 Output Shape              Param #   \n",
      "=================================================================\n",
      "input_1 (InputLayer)         [(None, 28, 28)]          0         \n",
      "_________________________________________________________________\n",
      "encoder (Model)              [(None, 2), (None, 2), (N 402958    \n",
      "_________________________________________________________________\n",
      "model_1 (Model)              (None, 28, 28)            403728    \n",
      "=================================================================\n",
      "Total params: 806,686\n",
      "Trainable params: 806,686\n",
      "Non-trainable params: 0\n",
      "_________________________________________________________________\n",
      "Train...\n",
      "Train on 60000 samples, validate on 10000 samples\n",
      "WARNING:tensorflow:From /Users/tristanbehrens/Development/python-venvs/venv-3.6/lib/python3.6/site-packages/tensorflow/python/ops/math_grad.py:1250: add_dispatch_support.<locals>.wrapper (from tensorflow.python.ops.array_ops) is deprecated and will be removed in a future version.\n",
      "Instructions for updating:\n",
      "Use tf.where in 2.0, which has the same broadcast rule as np.where\n",
      "Epoch 1/100\n",
      "60000/60000 [==============================] - 62s 1ms/sample - loss: 0.6930 - val_loss: 0.6926\n",
      "Epoch 2/100\n",
      "60000/60000 [==============================] - 39s 649us/sample - loss: 0.6923 - val_loss: 0.6919\n",
      "Epoch 3/100\n",
      "60000/60000 [==============================] - 42s 698us/sample - loss: 0.6915 - val_loss: 0.6911\n",
      "Epoch 4/100\n",
      "60000/60000 [==============================] - 42s 693us/sample - loss: 0.6907 - val_loss: 0.6903\n",
      "Epoch 5/100\n",
      "60000/60000 [==============================] - 36s 605us/sample - loss: 0.6899 - val_loss: 0.6895\n",
      "Epoch 6/100\n",
      "60000/60000 [==============================] - 40s 659us/sample - loss: 0.6892 - val_loss: 0.6888\n",
      "Epoch 7/100\n",
      "60000/60000 [==============================] - 39s 653us/sample - loss: 0.6884 - val_loss: 0.6880\n",
      "Epoch 8/100\n",
      "60000/60000 [==============================] - 38s 640us/sample - loss: 0.6876 - val_loss: 0.6872\n",
      "Epoch 9/100\n",
      "60000/60000 [==============================] - 37s 614us/sample - loss: 0.6868 - val_loss: 0.6864\n",
      "Epoch 10/100\n",
      "60000/60000 [==============================] - 37s 615us/sample - loss: 0.6860 - val_loss: 0.6857\n",
      "Epoch 11/100\n",
      "60000/60000 [==============================] - 37s 609us/sample - loss: 0.6853 - val_loss: 0.6849\n",
      "Epoch 12/100\n",
      "60000/60000 [==============================] - 36s 600us/sample - loss: 0.6845 - val_loss: 0.6841\n",
      "Epoch 13/100\n",
      "23840/60000 [==========>...................] - ETA: 22s - loss: 0.6839"
     ]
    }
   ],
   "source": [
    "# Create the autoencoder.\n",
    "vae = ngdlutils.build_dense_vae(input_shape=(28, 28), latent_dim=2, hidden_units=[512])\n",
    "vae.compile(optimizer='adadelta', loss=\"binary_crossentropy\")\n",
    "vae.summary()\n",
    "\n",
    "# Train.\n",
    "print(\"Train...\")\n",
    "history = vae.fit(\n",
    "        x_input_train, x_input_train,\n",
    "        epochs=100,\n",
    "        batch_size=32,\n",
    "        shuffle=True,\n",
    "        validation_data=(x_input_test, x_input_test)\n",
    "    )\n",
    "    \n",
    "# Evaluate.\n",
    "print(\"Evaluate...\")\n",
    "loss = vae.evaluate(x_input_test, x_input_test)\n",
    "print(\"Loss:\", loss)"
   ]
  },
  {
   "cell_type": "markdown",
   "metadata": {},
   "source": [
    "# Visualizing variational autoencoder."
   ]
  },
  {
   "cell_type": "code",
   "execution_count": null,
   "metadata": {},
   "outputs": [],
   "source": [
    "print(\"Rendering history...\")\n",
    "ngdlutils.render_history(history)\n",
    "\n",
    "print(\"Rendering reconstructions...\")\n",
    "ngdlutils.render_image_reconstructions(vae, x_input_train[0:10])\n",
    "\n",
    "print(\"Rendering latent-space...\")\n",
    "ngdlutils.render_image_latent_space(vae.decoder, 10)\n",
    "\n",
    "print(\"Rendering encodings...\")\n",
    "ngdlutils.render_encodings(vae.encoder, x_input_test, y_output_test)"
   ]
  },
  {
   "cell_type": "code",
   "execution_count": null,
   "metadata": {},
   "outputs": [],
   "source": []
  }
 ],
 "metadata": {
  "kernelspec": {
   "display_name": "Python 3",
   "language": "python",
   "name": "python3"
  },
  "language_info": {
   "codemirror_mode": {
    "name": "ipython",
    "version": 3
   },
   "file_extension": ".py",
   "mimetype": "text/x-python",
   "name": "python",
   "nbconvert_exporter": "python",
   "pygments_lexer": "ipython3",
   "version": "3.6.5"
  }
 },
 "nbformat": 4,
 "nbformat_minor": 2
}
