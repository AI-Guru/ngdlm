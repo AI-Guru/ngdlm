{
 "cells": [
  {
   "cell_type": "code",
   "execution_count": 1,
   "metadata": {},
   "outputs": [],
   "source": [
    "from tensorflow.keras import models, layers\n",
    "from ngdlm import models as ngdlmodels\n",
    "from ngdlm import utils as ngdlutils\n",
    "from tensorflow.keras.datasets import mnist\n",
    "import numpy as np"
   ]
  },
  {
   "cell_type": "markdown",
   "metadata": {},
   "source": [
    "# Train- and test-data."
   ]
  },
  {
   "cell_type": "code",
   "execution_count": 2,
   "metadata": {},
   "outputs": [
    {
     "name": "stdout",
     "output_type": "stream",
     "text": [
      "(60000, 28, 28)\n",
      "(10000, 28, 28)\n"
     ]
    }
   ],
   "source": [
    "(x_input_train, y_output_train), (x_input_test, y_output_test) = mnist.load_data()\n",
    "x_input_train = x_input_train.astype(\"float32\") / 255.0\n",
    "x_input_test = x_input_test.astype(\"float32\") / 255.0\n",
    "print(x_input_train.shape)\n",
    "print(x_input_test.shape)"
   ]
  },
  {
   "cell_type": "markdown",
   "metadata": {},
   "source": [
    "# Triplet loss."
   ]
  },
  {
   "cell_type": "code",
   "execution_count": null,
   "metadata": {},
   "outputs": [
    {
     "name": "stdout",
     "output_type": "stream",
     "text": [
      "WARNING:tensorflow:From /Users/tristanbehrens/Development/python-venvs/venv-3.6/lib/python3.6/site-packages/tensorflow/python/ops/init_ops.py:1251: calling VarianceScaling.__init__ (from tensorflow.python.ops.init_ops) with dtype is deprecated and will be removed in a future version.\n",
      "Instructions for updating:\n",
      "Call initializer instance with the dtype argument instead of passing it to the constructor\n",
      "Train...\n",
      "Epoch 1/1000...\n",
      "WARNING:tensorflow:From /Users/tristanbehrens/Development/python-venvs/venv-3.6/lib/python3.6/site-packages/tensorflow/python/ops/math_grad.py:1250: add_dispatch_support.<locals>.wrapper (from tensorflow.python.ops.array_ops) is deprecated and will be removed in a future version.\n",
      "Instructions for updating:\n",
      "Use tf.where in 2.0, which has the same broadcast rule as np.where\n",
      "loss [0.001776958405273035]\n",
      "val_loss [0.28968775272369385]\n",
      "Epoch 2/1000...\n",
      "loss [0.002040584284812212]\n",
      "val_loss [0.42852091789245605]\n",
      "Epoch 3/1000...\n",
      "loss [0.0018833374110981823]\n",
      "val_loss [0.25745901465415955]\n",
      "Epoch 4/1000...\n",
      "loss [0.0015206384893972427]\n",
      "val_loss [0.3331780433654785]\n",
      "Epoch 5/1000...\n",
      "loss [0.0013796454295516014]\n",
      "val_loss [0.31549692153930664]\n",
      "Epoch 6/1000...\n",
      "loss [0.0016841064137406647]\n",
      "val_loss [0.3355473279953003]\n",
      "Epoch 7/1000...\n",
      "loss [0.0014051316061522811]\n",
      "val_loss [0.2461884468793869]\n",
      "Epoch 8/1000...\n",
      "loss [0.0013360956518445163]\n",
      "val_loss [0.32527977228164673]\n",
      "Epoch 9/1000...\n",
      "loss [0.0015073403760325163]\n",
      "val_loss [0.21918249130249023]\n",
      "Epoch 10/1000...\n",
      "loss [0.0013042997615411878]\n",
      "val_loss [0.2221946120262146]\n",
      "Epoch 11/1000...\n",
      "loss [0.0013060583763290197]\n",
      "val_loss [0.25039833784103394]\n",
      "Epoch 12/1000...\n"
     ]
    }
   ],
   "source": [
    "latent_dim = 8\n",
    "\n",
    "# Create the base-model.\n",
    "base_input = layers.Input(shape=(28, 28))\n",
    "base_output = base_input\n",
    "base_output = layers.Flatten()(base_output)\n",
    "base_output = layers.Dense(512, activation=\"relu\")(base_output)\n",
    "base_output = layers.Dense(256, activation=\"relu\")(base_output)\n",
    "base_output = layers.Dense(128, activation=\"relu\")(base_output)\n",
    "base_output = layers.Dense(latent_dim)(base_output)\n",
    "base = models.Model(base_input, base_output)\n",
    "\n",
    "# Create the triplet loss model.\n",
    "tl = ngdlmodels.TL(base)\n",
    "tl.compile(optimizer=\"rmsprop\", triplet_loss=\"euclidean\")\n",
    "#tl.summary()\n",
    "\n",
    "# Train.\n",
    "print(\"Train...\")\n",
    "history = tl.fit(\n",
    "        x_input_train, y_output_train,\n",
    "        epochs=1000,\n",
    "        batch_size=128,\n",
    "        steps_per_epoch=1000,\n",
    "        minibatch_size=10,\n",
    "        shuffle=True,\n",
    "        validation_data=(x_input_test, y_output_test),\n",
    "        validation_steps=500\n",
    "    )"
   ]
  },
  {
   "cell_type": "markdown",
   "metadata": {},
   "source": [
    "# Visualizing triplet-loss."
   ]
  },
  {
   "cell_type": "code",
   "execution_count": null,
   "metadata": {},
   "outputs": [],
   "source": [
    "#print(\"Rendering history...\")\n",
    "ngdlutils.render_history(history)\n",
    "\n",
    "print(\"Rendering encodings...\")\n",
    "ngdlutils.render_encodings(tl.base, x_input_train, y_output_train)\n",
    "ngdlutils.render_encodings(tl.base, x_input_test, y_output_test)\n",
    "\n",
    "# TODO visualize triplets"
   ]
  }
 ],
 "metadata": {
  "kernelspec": {
   "display_name": "Python 3",
   "language": "python",
   "name": "python3"
  },
  "language_info": {
   "codemirror_mode": {
    "name": "ipython",
    "version": 3
   },
   "file_extension": ".py",
   "mimetype": "text/x-python",
   "name": "python",
   "nbconvert_exporter": "python",
   "pygments_lexer": "ipython3",
   "version": "3.6.5"
  }
 },
 "nbformat": 4,
 "nbformat_minor": 2
}
